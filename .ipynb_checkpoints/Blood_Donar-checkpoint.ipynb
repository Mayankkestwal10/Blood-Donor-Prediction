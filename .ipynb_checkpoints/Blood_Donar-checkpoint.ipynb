{
 "cells": [
  {
   "cell_type": "markdown",
   "metadata": {},
   "source": [
    "<h1>The Blood Transfusion Service Center Dataset</h1>"
   ]
  },
  {
   "cell_type": "markdown",
   "metadata": {},
   "source": [
    "<p style=\"padding:5px;\">Given our mission, we're interested in predicting if a blood donor will donate within a given time window.</p>\n",
    "\n",
    "<p style=\"padding-left:6px\">Predict if the donor will give in March 2007\n",
    "The goal is to predict the last column, whether he/she donated blood in March 2007.</p>\n",
    "\n",
    "<p style=\"padding-left:10px\">Use information about each donor's history</p>\n",
    "<ul>\n",
    "    <li><strong>Months since Last Donation :</strong> this is the number of monthis since this donor's most recent donation.</li>\n",
    "    <li><strong>Number of Donations :</strong> this is the total number of donations that the donor has made.</li>\n",
    "    <li><strong>Total Volume Donated :</strong> this is the total amound of blood that the donor has donated in cubuc centimeters.</li>\n",
    "<li><strong>Months since First Donation:</strong> this is the number of months since the donor's first donation.</li>\n",
    "</ul>"
   ]
  },
  {
   "cell_type": "markdown",
   "metadata": {},
   "source": [
    "<h3 style=\"padding-left:10px\">Importing Necessary Libraries</h3>"
   ]
  },
  {
   "cell_type": "code",
   "execution_count": 31,
   "metadata": {},
   "outputs": [],
   "source": [
    "import numpy as np\n",
    "import matplotlib.pyplot as plt\n",
    "import seaborn as sns\n",
    "import pandas as pd\n",
    "import warnings\n",
    "warnings.filterwarnings('ignore')"
   ]
  },
  {
   "cell_type": "markdown",
   "metadata": {},
   "source": [
    "<h3 style=\"padding-left:10px\">Reading the dataset</h3>"
   ]
  },
  {
   "cell_type": "markdown",
   "metadata": {},
   "source": [
    "<p style=\"padding-left:10px\">We have two files <b>Blood.csv</b> and <b>BloodTestData.csv</b></p>\n",
    "<ul><li><b>Blood.csv</b> : Training data</li>\n",
    "    <li><b>BloodTestData.csv</b> : Test data</li></ul>"
   ]
  },
  {
   "cell_type": "code",
   "execution_count": 10,
   "metadata": {},
   "outputs": [
    {
     "data": {
      "text/html": [
       "<div>\n",
       "<style scoped>\n",
       "    .dataframe tbody tr th:only-of-type {\n",
       "        vertical-align: middle;\n",
       "    }\n",
       "\n",
       "    .dataframe tbody tr th {\n",
       "        vertical-align: top;\n",
       "    }\n",
       "\n",
       "    .dataframe thead th {\n",
       "        text-align: right;\n",
       "    }\n",
       "</style>\n",
       "<table border=\"1\" class=\"dataframe\">\n",
       "  <thead>\n",
       "    <tr style=\"text-align: right;\">\n",
       "      <th></th>\n",
       "      <th>Unnamed: 0</th>\n",
       "      <th>Months since Last Donation</th>\n",
       "      <th>Number of Donations</th>\n",
       "      <th>Total Volume Donated (c.c.)</th>\n",
       "      <th>Months since First Donation</th>\n",
       "      <th>Made Donation in March 2007</th>\n",
       "    </tr>\n",
       "  </thead>\n",
       "  <tbody>\n",
       "    <tr>\n",
       "      <th>0</th>\n",
       "      <td>619</td>\n",
       "      <td>2</td>\n",
       "      <td>50</td>\n",
       "      <td>12500</td>\n",
       "      <td>98</td>\n",
       "      <td>1</td>\n",
       "    </tr>\n",
       "    <tr>\n",
       "      <th>1</th>\n",
       "      <td>664</td>\n",
       "      <td>0</td>\n",
       "      <td>13</td>\n",
       "      <td>3250</td>\n",
       "      <td>28</td>\n",
       "      <td>1</td>\n",
       "    </tr>\n",
       "    <tr>\n",
       "      <th>2</th>\n",
       "      <td>441</td>\n",
       "      <td>1</td>\n",
       "      <td>16</td>\n",
       "      <td>4000</td>\n",
       "      <td>35</td>\n",
       "      <td>1</td>\n",
       "    </tr>\n",
       "    <tr>\n",
       "      <th>3</th>\n",
       "      <td>160</td>\n",
       "      <td>2</td>\n",
       "      <td>20</td>\n",
       "      <td>5000</td>\n",
       "      <td>45</td>\n",
       "      <td>1</td>\n",
       "    </tr>\n",
       "    <tr>\n",
       "      <th>4</th>\n",
       "      <td>358</td>\n",
       "      <td>1</td>\n",
       "      <td>24</td>\n",
       "      <td>6000</td>\n",
       "      <td>77</td>\n",
       "      <td>0</td>\n",
       "    </tr>\n",
       "  </tbody>\n",
       "</table>\n",
       "</div>"
      ],
      "text/plain": [
       "   Unnamed: 0  Months since Last Donation  Number of Donations  \\\n",
       "0         619                           2                   50   \n",
       "1         664                           0                   13   \n",
       "2         441                           1                   16   \n",
       "3         160                           2                   20   \n",
       "4         358                           1                   24   \n",
       "\n",
       "   Total Volume Donated (c.c.)  Months since First Donation  \\\n",
       "0                        12500                           98   \n",
       "1                         3250                           28   \n",
       "2                         4000                           35   \n",
       "3                         5000                           45   \n",
       "4                         6000                           77   \n",
       "\n",
       "   Made Donation in March 2007  \n",
       "0                            1  \n",
       "1                            1  \n",
       "2                            1  \n",
       "3                            1  \n",
       "4                            0  "
      ]
     },
     "execution_count": 10,
     "metadata": {},
     "output_type": "execute_result"
    }
   ],
   "source": [
    "# Train data\n",
    "df_train = pd.read_csv(\"Blood.csv\")\n",
    "df_train.head()"
   ]
  },
  {
   "cell_type": "code",
   "execution_count": 11,
   "metadata": {},
   "outputs": [
    {
     "data": {
      "text/html": [
       "<div>\n",
       "<style scoped>\n",
       "    .dataframe tbody tr th:only-of-type {\n",
       "        vertical-align: middle;\n",
       "    }\n",
       "\n",
       "    .dataframe tbody tr th {\n",
       "        vertical-align: top;\n",
       "    }\n",
       "\n",
       "    .dataframe thead th {\n",
       "        text-align: right;\n",
       "    }\n",
       "</style>\n",
       "<table border=\"1\" class=\"dataframe\">\n",
       "  <thead>\n",
       "    <tr style=\"text-align: right;\">\n",
       "      <th></th>\n",
       "      <th>Unnamed: 0</th>\n",
       "      <th>Months since Last Donation</th>\n",
       "      <th>Number of Donations</th>\n",
       "      <th>Total Volume Donated (c.c.)</th>\n",
       "      <th>Months since First Donation</th>\n",
       "    </tr>\n",
       "  </thead>\n",
       "  <tbody>\n",
       "    <tr>\n",
       "      <th>0</th>\n",
       "      <td>659</td>\n",
       "      <td>2</td>\n",
       "      <td>12</td>\n",
       "      <td>3000</td>\n",
       "      <td>52</td>\n",
       "    </tr>\n",
       "    <tr>\n",
       "      <th>1</th>\n",
       "      <td>276</td>\n",
       "      <td>21</td>\n",
       "      <td>7</td>\n",
       "      <td>1750</td>\n",
       "      <td>38</td>\n",
       "    </tr>\n",
       "    <tr>\n",
       "      <th>2</th>\n",
       "      <td>263</td>\n",
       "      <td>4</td>\n",
       "      <td>1</td>\n",
       "      <td>250</td>\n",
       "      <td>4</td>\n",
       "    </tr>\n",
       "    <tr>\n",
       "      <th>3</th>\n",
       "      <td>303</td>\n",
       "      <td>11</td>\n",
       "      <td>11</td>\n",
       "      <td>2750</td>\n",
       "      <td>38</td>\n",
       "    </tr>\n",
       "    <tr>\n",
       "      <th>4</th>\n",
       "      <td>83</td>\n",
       "      <td>4</td>\n",
       "      <td>12</td>\n",
       "      <td>3000</td>\n",
       "      <td>34</td>\n",
       "    </tr>\n",
       "  </tbody>\n",
       "</table>\n",
       "</div>"
      ],
      "text/plain": [
       "   Unnamed: 0  Months since Last Donation  Number of Donations  \\\n",
       "0         659                           2                   12   \n",
       "1         276                          21                    7   \n",
       "2         263                           4                    1   \n",
       "3         303                          11                   11   \n",
       "4          83                           4                   12   \n",
       "\n",
       "   Total Volume Donated (c.c.)  Months since First Donation  \n",
       "0                         3000                           52  \n",
       "1                         1750                           38  \n",
       "2                          250                            4  \n",
       "3                         2750                           38  \n",
       "4                         3000                           34  "
      ]
     },
     "execution_count": 11,
     "metadata": {},
     "output_type": "execute_result"
    }
   ],
   "source": [
    "# Test data\n",
    "df_test = pd.read_csv(\"BloodTestData.csv\")\n",
    "df_test.head()"
   ]
  },
  {
   "cell_type": "markdown",
   "metadata": {},
   "source": [
    "<p>So this is how our data looks like, you can see we have multiple columns in our data but the Unnamed:0 should be either removed or labeled.</p>"
   ]
  },
  {
   "cell_type": "code",
   "execution_count": 20,
   "metadata": {},
   "outputs": [
    {
     "data": {
      "text/html": [
       "<div>\n",
       "<style scoped>\n",
       "    .dataframe tbody tr th:only-of-type {\n",
       "        vertical-align: middle;\n",
       "    }\n",
       "\n",
       "    .dataframe tbody tr th {\n",
       "        vertical-align: top;\n",
       "    }\n",
       "\n",
       "    .dataframe thead th {\n",
       "        text-align: right;\n",
       "    }\n",
       "</style>\n",
       "<table border=\"1\" class=\"dataframe\">\n",
       "  <thead>\n",
       "    <tr style=\"text-align: right;\">\n",
       "      <th></th>\n",
       "      <th>Donor_id</th>\n",
       "      <th>Months since Last Donation</th>\n",
       "      <th>Number of Donations</th>\n",
       "      <th>Total Volume Donated (c.c.)</th>\n",
       "      <th>Months since First Donation</th>\n",
       "      <th>Made Donation in March 2007</th>\n",
       "    </tr>\n",
       "  </thead>\n",
       "  <tbody>\n",
       "    <tr>\n",
       "      <th>0</th>\n",
       "      <td>619</td>\n",
       "      <td>2</td>\n",
       "      <td>50</td>\n",
       "      <td>12500</td>\n",
       "      <td>98</td>\n",
       "      <td>1</td>\n",
       "    </tr>\n",
       "    <tr>\n",
       "      <th>1</th>\n",
       "      <td>664</td>\n",
       "      <td>0</td>\n",
       "      <td>13</td>\n",
       "      <td>3250</td>\n",
       "      <td>28</td>\n",
       "      <td>1</td>\n",
       "    </tr>\n",
       "    <tr>\n",
       "      <th>2</th>\n",
       "      <td>441</td>\n",
       "      <td>1</td>\n",
       "      <td>16</td>\n",
       "      <td>4000</td>\n",
       "      <td>35</td>\n",
       "      <td>1</td>\n",
       "    </tr>\n",
       "    <tr>\n",
       "      <th>3</th>\n",
       "      <td>160</td>\n",
       "      <td>2</td>\n",
       "      <td>20</td>\n",
       "      <td>5000</td>\n",
       "      <td>45</td>\n",
       "      <td>1</td>\n",
       "    </tr>\n",
       "    <tr>\n",
       "      <th>4</th>\n",
       "      <td>358</td>\n",
       "      <td>1</td>\n",
       "      <td>24</td>\n",
       "      <td>6000</td>\n",
       "      <td>77</td>\n",
       "      <td>0</td>\n",
       "    </tr>\n",
       "  </tbody>\n",
       "</table>\n",
       "</div>"
      ],
      "text/plain": [
       "   Donor_id  Months since Last Donation  Number of Donations  \\\n",
       "0       619                           2                   50   \n",
       "1       664                           0                   13   \n",
       "2       441                           1                   16   \n",
       "3       160                           2                   20   \n",
       "4       358                           1                   24   \n",
       "\n",
       "   Total Volume Donated (c.c.)  Months since First Donation  \\\n",
       "0                        12500                           98   \n",
       "1                         3250                           28   \n",
       "2                         4000                           35   \n",
       "3                         5000                           45   \n",
       "4                         6000                           77   \n",
       "\n",
       "   Made Donation in March 2007  \n",
       "0                            1  \n",
       "1                            1  \n",
       "2                            1  \n",
       "3                            1  \n",
       "4                            0  "
      ]
     },
     "execution_count": 20,
     "metadata": {},
     "output_type": "execute_result"
    }
   ],
   "source": [
    "#labelling\n",
    "df_train.rename(columns={\"Unnamed: 0\":\"Donor_id\"},inplace=True)\n",
    "df_train.head()"
   ]
  },
  {
   "cell_type": "code",
   "execution_count": 21,
   "metadata": {},
   "outputs": [
    {
     "data": {
      "text/html": [
       "<div>\n",
       "<style scoped>\n",
       "    .dataframe tbody tr th:only-of-type {\n",
       "        vertical-align: middle;\n",
       "    }\n",
       "\n",
       "    .dataframe tbody tr th {\n",
       "        vertical-align: top;\n",
       "    }\n",
       "\n",
       "    .dataframe thead th {\n",
       "        text-align: right;\n",
       "    }\n",
       "</style>\n",
       "<table border=\"1\" class=\"dataframe\">\n",
       "  <thead>\n",
       "    <tr style=\"text-align: right;\">\n",
       "      <th></th>\n",
       "      <th>Donor_id</th>\n",
       "      <th>Months since Last Donation</th>\n",
       "      <th>Number of Donations</th>\n",
       "      <th>Total Volume Donated (c.c.)</th>\n",
       "      <th>Months since First Donation</th>\n",
       "    </tr>\n",
       "  </thead>\n",
       "  <tbody>\n",
       "    <tr>\n",
       "      <th>0</th>\n",
       "      <td>659</td>\n",
       "      <td>2</td>\n",
       "      <td>12</td>\n",
       "      <td>3000</td>\n",
       "      <td>52</td>\n",
       "    </tr>\n",
       "    <tr>\n",
       "      <th>1</th>\n",
       "      <td>276</td>\n",
       "      <td>21</td>\n",
       "      <td>7</td>\n",
       "      <td>1750</td>\n",
       "      <td>38</td>\n",
       "    </tr>\n",
       "    <tr>\n",
       "      <th>2</th>\n",
       "      <td>263</td>\n",
       "      <td>4</td>\n",
       "      <td>1</td>\n",
       "      <td>250</td>\n",
       "      <td>4</td>\n",
       "    </tr>\n",
       "    <tr>\n",
       "      <th>3</th>\n",
       "      <td>303</td>\n",
       "      <td>11</td>\n",
       "      <td>11</td>\n",
       "      <td>2750</td>\n",
       "      <td>38</td>\n",
       "    </tr>\n",
       "    <tr>\n",
       "      <th>4</th>\n",
       "      <td>83</td>\n",
       "      <td>4</td>\n",
       "      <td>12</td>\n",
       "      <td>3000</td>\n",
       "      <td>34</td>\n",
       "    </tr>\n",
       "  </tbody>\n",
       "</table>\n",
       "</div>"
      ],
      "text/plain": [
       "   Donor_id  Months since Last Donation  Number of Donations  \\\n",
       "0       659                           2                   12   \n",
       "1       276                          21                    7   \n",
       "2       263                           4                    1   \n",
       "3       303                          11                   11   \n",
       "4        83                           4                   12   \n",
       "\n",
       "   Total Volume Donated (c.c.)  Months since First Donation  \n",
       "0                         3000                           52  \n",
       "1                         1750                           38  \n",
       "2                          250                            4  \n",
       "3                         2750                           38  \n",
       "4                         3000                           34  "
      ]
     },
     "execution_count": 21,
     "metadata": {},
     "output_type": "execute_result"
    }
   ],
   "source": [
    "df_test.rename(columns={\"Unnamed: 0\":\"Donor_id\"},inplace=True)\n",
    "df_test.head()"
   ]
  },
  {
   "cell_type": "markdown",
   "metadata": {},
   "source": [
    "<p>We will explore our data now.</p>"
   ]
  },
  {
   "cell_type": "code",
   "execution_count": 22,
   "metadata": {},
   "outputs": [
    {
     "data": {
      "text/plain": [
       "((576, 6), (200, 5))"
      ]
     },
     "execution_count": 22,
     "metadata": {},
     "output_type": "execute_result"
    }
   ],
   "source": [
    "df_train.shape, df_test.shape"
   ]
  },
  {
   "cell_type": "code",
   "execution_count": 25,
   "metadata": {},
   "outputs": [
    {
     "name": "stdout",
     "output_type": "stream",
     "text": [
      "<class 'pandas.core.frame.DataFrame'>\n",
      "RangeIndex: 576 entries, 0 to 575\n",
      "Data columns (total 6 columns):\n",
      "Donor_id                       576 non-null int64\n",
      "Months since Last Donation     576 non-null int64\n",
      "Number of Donations            576 non-null int64\n",
      "Total Volume Donated (c.c.)    576 non-null int64\n",
      "Months since First Donation    576 non-null int64\n",
      "Made Donation in March 2007    576 non-null int64\n",
      "dtypes: int64(6)\n",
      "memory usage: 27.1 KB\n",
      "\n",
      "--------------------------------------\n",
      "\n",
      "<class 'pandas.core.frame.DataFrame'>\n",
      "RangeIndex: 200 entries, 0 to 199\n",
      "Data columns (total 5 columns):\n",
      "Donor_id                       200 non-null int64\n",
      "Months since Last Donation     200 non-null int64\n",
      "Number of Donations            200 non-null int64\n",
      "Total Volume Donated (c.c.)    200 non-null int64\n",
      "Months since First Donation    200 non-null int64\n",
      "dtypes: int64(5)\n",
      "memory usage: 7.9 KB\n"
     ]
    }
   ],
   "source": [
    "df_train.info()\n",
    "print(\"\\n--------------------------------------\\n\")\n",
    "df_test.info()"
   ]
  },
  {
   "cell_type": "markdown",
   "metadata": {},
   "source": [
    "<b>No missing values</b>"
   ]
  },
  {
   "cell_type": "code",
   "execution_count": 29,
   "metadata": {},
   "outputs": [
    {
     "data": {
      "text/html": [
       "<div>\n",
       "<style scoped>\n",
       "    .dataframe tbody tr th:only-of-type {\n",
       "        vertical-align: middle;\n",
       "    }\n",
       "\n",
       "    .dataframe tbody tr th {\n",
       "        vertical-align: top;\n",
       "    }\n",
       "\n",
       "    .dataframe thead th {\n",
       "        text-align: right;\n",
       "    }\n",
       "</style>\n",
       "<table border=\"1\" class=\"dataframe\">\n",
       "  <thead>\n",
       "    <tr style=\"text-align: right;\">\n",
       "      <th></th>\n",
       "      <th>Donor_id</th>\n",
       "      <th>Months since Last Donation</th>\n",
       "      <th>Number of Donations</th>\n",
       "      <th>Total Volume Donated (c.c.)</th>\n",
       "      <th>Months since First Donation</th>\n",
       "      <th>Made Donation in March 2007</th>\n",
       "    </tr>\n",
       "  </thead>\n",
       "  <tbody>\n",
       "    <tr>\n",
       "      <th>count</th>\n",
       "      <td>576.000000</td>\n",
       "      <td>576.000000</td>\n",
       "      <td>576.000000</td>\n",
       "      <td>576.000000</td>\n",
       "      <td>576.000000</td>\n",
       "      <td>576.000000</td>\n",
       "    </tr>\n",
       "    <tr>\n",
       "      <th>mean</th>\n",
       "      <td>374.034722</td>\n",
       "      <td>9.439236</td>\n",
       "      <td>5.427083</td>\n",
       "      <td>1356.770833</td>\n",
       "      <td>34.050347</td>\n",
       "      <td>0.239583</td>\n",
       "    </tr>\n",
       "    <tr>\n",
       "      <th>std</th>\n",
       "      <td>216.947773</td>\n",
       "      <td>8.175454</td>\n",
       "      <td>5.740010</td>\n",
       "      <td>1435.002556</td>\n",
       "      <td>24.227672</td>\n",
       "      <td>0.427200</td>\n",
       "    </tr>\n",
       "    <tr>\n",
       "      <th>min</th>\n",
       "      <td>0.000000</td>\n",
       "      <td>0.000000</td>\n",
       "      <td>1.000000</td>\n",
       "      <td>250.000000</td>\n",
       "      <td>2.000000</td>\n",
       "      <td>0.000000</td>\n",
       "    </tr>\n",
       "    <tr>\n",
       "      <th>25%</th>\n",
       "      <td>183.750000</td>\n",
       "      <td>2.000000</td>\n",
       "      <td>2.000000</td>\n",
       "      <td>500.000000</td>\n",
       "      <td>16.000000</td>\n",
       "      <td>0.000000</td>\n",
       "    </tr>\n",
       "    <tr>\n",
       "      <th>50%</th>\n",
       "      <td>375.500000</td>\n",
       "      <td>7.000000</td>\n",
       "      <td>4.000000</td>\n",
       "      <td>1000.000000</td>\n",
       "      <td>28.000000</td>\n",
       "      <td>0.000000</td>\n",
       "    </tr>\n",
       "    <tr>\n",
       "      <th>75%</th>\n",
       "      <td>562.500000</td>\n",
       "      <td>14.000000</td>\n",
       "      <td>7.000000</td>\n",
       "      <td>1750.000000</td>\n",
       "      <td>49.250000</td>\n",
       "      <td>0.000000</td>\n",
       "    </tr>\n",
       "    <tr>\n",
       "      <th>max</th>\n",
       "      <td>747.000000</td>\n",
       "      <td>74.000000</td>\n",
       "      <td>50.000000</td>\n",
       "      <td>12500.000000</td>\n",
       "      <td>98.000000</td>\n",
       "      <td>1.000000</td>\n",
       "    </tr>\n",
       "  </tbody>\n",
       "</table>\n",
       "</div>"
      ],
      "text/plain": [
       "         Donor_id  Months since Last Donation  Number of Donations  \\\n",
       "count  576.000000                  576.000000           576.000000   \n",
       "mean   374.034722                    9.439236             5.427083   \n",
       "std    216.947773                    8.175454             5.740010   \n",
       "min      0.000000                    0.000000             1.000000   \n",
       "25%    183.750000                    2.000000             2.000000   \n",
       "50%    375.500000                    7.000000             4.000000   \n",
       "75%    562.500000                   14.000000             7.000000   \n",
       "max    747.000000                   74.000000            50.000000   \n",
       "\n",
       "       Total Volume Donated (c.c.)  Months since First Donation  \\\n",
       "count                   576.000000                   576.000000   \n",
       "mean                   1356.770833                    34.050347   \n",
       "std                    1435.002556                    24.227672   \n",
       "min                     250.000000                     2.000000   \n",
       "25%                     500.000000                    16.000000   \n",
       "50%                    1000.000000                    28.000000   \n",
       "75%                    1750.000000                    49.250000   \n",
       "max                   12500.000000                    98.000000   \n",
       "\n",
       "       Made Donation in March 2007  \n",
       "count                   576.000000  \n",
       "mean                      0.239583  \n",
       "std                       0.427200  \n",
       "min                       0.000000  \n",
       "25%                       0.000000  \n",
       "50%                       0.000000  \n",
       "75%                       0.000000  \n",
       "max                       1.000000  "
      ]
     },
     "execution_count": 29,
     "metadata": {},
     "output_type": "execute_result"
    }
   ],
   "source": [
    "#Statistical Inference\n",
    "\n",
    "df_train.describe()"
   ]
  },
  {
   "cell_type": "code",
   "execution_count": 30,
   "metadata": {},
   "outputs": [
    {
     "data": {
      "text/html": [
       "<div>\n",
       "<style scoped>\n",
       "    .dataframe tbody tr th:only-of-type {\n",
       "        vertical-align: middle;\n",
       "    }\n",
       "\n",
       "    .dataframe tbody tr th {\n",
       "        vertical-align: top;\n",
       "    }\n",
       "\n",
       "    .dataframe thead th {\n",
       "        text-align: right;\n",
       "    }\n",
       "</style>\n",
       "<table border=\"1\" class=\"dataframe\">\n",
       "  <thead>\n",
       "    <tr style=\"text-align: right;\">\n",
       "      <th></th>\n",
       "      <th>Donor_id</th>\n",
       "      <th>Months since Last Donation</th>\n",
       "      <th>Number of Donations</th>\n",
       "      <th>Total Volume Donated (c.c.)</th>\n",
       "      <th>Months since First Donation</th>\n",
       "    </tr>\n",
       "  </thead>\n",
       "  <tbody>\n",
       "    <tr>\n",
       "      <th>count</th>\n",
       "      <td>200.000000</td>\n",
       "      <td>200.00000</td>\n",
       "      <td>200.000000</td>\n",
       "      <td>200.000000</td>\n",
       "      <td>200.000000</td>\n",
       "    </tr>\n",
       "    <tr>\n",
       "      <th>mean</th>\n",
       "      <td>374.565000</td>\n",
       "      <td>9.49500</td>\n",
       "      <td>5.935000</td>\n",
       "      <td>1483.750000</td>\n",
       "      <td>35.475000</td>\n",
       "    </tr>\n",
       "    <tr>\n",
       "      <th>std</th>\n",
       "      <td>211.138231</td>\n",
       "      <td>7.61907</td>\n",
       "      <td>6.125224</td>\n",
       "      <td>1531.305955</td>\n",
       "      <td>25.111197</td>\n",
       "    </tr>\n",
       "    <tr>\n",
       "      <th>min</th>\n",
       "      <td>1.000000</td>\n",
       "      <td>0.00000</td>\n",
       "      <td>1.000000</td>\n",
       "      <td>250.000000</td>\n",
       "      <td>2.000000</td>\n",
       "    </tr>\n",
       "    <tr>\n",
       "      <th>25%</th>\n",
       "      <td>198.250000</td>\n",
       "      <td>4.00000</td>\n",
       "      <td>2.000000</td>\n",
       "      <td>500.000000</td>\n",
       "      <td>14.000000</td>\n",
       "    </tr>\n",
       "    <tr>\n",
       "      <th>50%</th>\n",
       "      <td>377.500000</td>\n",
       "      <td>7.00000</td>\n",
       "      <td>4.000000</td>\n",
       "      <td>1000.000000</td>\n",
       "      <td>31.000000</td>\n",
       "    </tr>\n",
       "    <tr>\n",
       "      <th>75%</th>\n",
       "      <td>537.000000</td>\n",
       "      <td>14.00000</td>\n",
       "      <td>8.000000</td>\n",
       "      <td>2000.000000</td>\n",
       "      <td>52.000000</td>\n",
       "    </tr>\n",
       "    <tr>\n",
       "      <th>max</th>\n",
       "      <td>745.000000</td>\n",
       "      <td>40.00000</td>\n",
       "      <td>41.000000</td>\n",
       "      <td>10250.000000</td>\n",
       "      <td>98.000000</td>\n",
       "    </tr>\n",
       "  </tbody>\n",
       "</table>\n",
       "</div>"
      ],
      "text/plain": [
       "         Donor_id  Months since Last Donation  Number of Donations  \\\n",
       "count  200.000000                   200.00000           200.000000   \n",
       "mean   374.565000                     9.49500             5.935000   \n",
       "std    211.138231                     7.61907             6.125224   \n",
       "min      1.000000                     0.00000             1.000000   \n",
       "25%    198.250000                     4.00000             2.000000   \n",
       "50%    377.500000                     7.00000             4.000000   \n",
       "75%    537.000000                    14.00000             8.000000   \n",
       "max    745.000000                    40.00000            41.000000   \n",
       "\n",
       "       Total Volume Donated (c.c.)  Months since First Donation  \n",
       "count                   200.000000                   200.000000  \n",
       "mean                   1483.750000                    35.475000  \n",
       "std                    1531.305955                    25.111197  \n",
       "min                     250.000000                     2.000000  \n",
       "25%                     500.000000                    14.000000  \n",
       "50%                    1000.000000                    31.000000  \n",
       "75%                    2000.000000                    52.000000  \n",
       "max                   10250.000000                    98.000000  "
      ]
     },
     "execution_count": 30,
     "metadata": {},
     "output_type": "execute_result"
    }
   ],
   "source": [
    "df_test.describe()"
   ]
  },
  {
   "cell_type": "code",
   "execution_count": 32,
   "metadata": {},
   "outputs": [
    {
     "data": {
      "text/plain": [
       "<matplotlib.axes._subplots.AxesSubplot at 0x7faff17bf780>"
      ]
     },
     "execution_count": 32,
     "metadata": {},
     "output_type": "execute_result"
    },
    {
     "data": {
      "image/png": "[encoded data removed]",
      "text/plain": [
       "<Figure size 432x288 with 2 Axes>"
      ]
     },
     "metadata": {
      "needs_background": "light"
     },
     "output_type": "display_data"
    }
   ],
   "source": [
    "# Correlation\n",
    "train_corr = df_train.corr()\n",
    "sns.heatmap(train_corr)"
   ]
  },
  {
   "cell_type": "code",
   "execution_count": 33,
   "metadata": {},
   "outputs": [
    {
     "data": {
      "text/plain": [
       "<matplotlib.axes._subplots.AxesSubplot at 0x7faff114ec88>"
      ]
     },
     "execution_count": 33,
     "metadata": {},
     "output_type": "execute_result"
    },
    {
     "data": {
      "image/png": "[encoded data removed]",
      "text/plain": [
       "<Figure size 432x288 with 2 Axes>"
      ]
     },
     "metadata": {
      "needs_background": "light"
     },
     "output_type": "display_data"
    }
   ],
   "source": [
    "test_corr = df_test.corr()\n",
    "sns.heatmap(test_corr)"
   ]
  },
  {
   "cell_type": "markdown",
   "metadata": {},
   "source": [
    "<h1>Data Preprocessing</h1>"
   ]
  },
  {
   "cell_type": "code",
   "execution_count": 35,
   "metadata": {},
   "outputs": [],
   "source": [
    "# Training data\n",
    "X_train = df_train.iloc[:,[1,2,3,4]].values\n",
    "y_train = df_train.iloc[:,-1].values"
   ]
  },
  {
   "cell_type": "code",
   "execution_count": 39,
   "metadata": {},
   "outputs": [
    {
     "data": {
      "text/plain": [
       "(array([[    2,    50, 12500,    98],\n",
       "        [    0,    13,  3250,    28],\n",
       "        [    1,    16,  4000,    35],\n",
       "        ...,\n",
       "        [   21,     2,   500,    52],\n",
       "        [   39,     1,   250,    39],\n",
       "        [   72,     1,   250,    72]]),\n",
       " array([1, 1, 1, 1, 0, 0, 1, 0, 1, 0, 1, 0, 1, 1, 1, 1, 1, 1, 1, 0, 1, 1,\n",
       "        0, 0, 0, 0, 1, 1, 0, 1, 1, 1, 1, 1, 0, 1, 0, 1, 1, 0, 0, 0, 0, 0,\n",
       "        1, 0, 1, 1, 1, 1, 0, 1, 1, 0, 1, 0, 0, 0, 0, 0, 1, 0, 1, 1, 1, 0,\n",
       "        0, 0, 0, 0, 1, 0, 0, 0, 1, 1, 0, 0, 0, 0, 1, 1, 0, 0, 0, 0, 0, 0,\n",
       "        0, 0, 1, 0, 0, 1, 0, 0, 1, 1, 1, 1, 1, 0, 0, 1, 1, 1, 0, 0, 0, 0,\n",
       "        0, 0, 0, 0, 0, 0, 1, 0, 0, 1, 0, 1, 1, 0, 0, 0, 0, 0, 0, 0, 1, 1,\n",
       "        1, 0, 0, 0, 0, 0, 0, 0, 0, 0, 1, 1, 0, 1, 0, 0, 0, 0, 0, 1, 0, 0,\n",
       "        0, 1, 1, 0, 0, 0, 0, 1, 0, 0, 0, 0, 0, 0, 0, 0, 1, 0, 0, 0, 0, 1,\n",
       "        0, 0, 0, 0, 0, 0, 0, 0, 0, 0, 0, 1, 0, 1, 1, 0, 0, 0, 0, 0, 0, 1,\n",
       "        1, 0, 0, 0, 0, 0, 0, 0, 1, 0, 1, 0, 0, 0, 0, 0, 0, 0, 0, 0, 0, 0,\n",
       "        0, 0, 0, 1, 0, 0, 0, 0, 1, 0, 0, 0, 0, 0, 0, 0, 0, 0, 1, 0, 0, 0,\n",
       "        0, 0, 0, 0, 0, 0, 1, 0, 1, 1, 0, 0, 0, 1, 0, 0, 1, 0, 1, 0, 0, 0,\n",
       "        0, 0, 0, 0, 0, 0, 0, 0, 0, 0, 0, 0, 0, 0, 0, 0, 1, 0, 0, 0, 1, 1,\n",
       "        0, 1, 0, 0, 0, 0, 0, 0, 0, 0, 0, 0, 0, 0, 0, 0, 0, 0, 1, 0, 0, 1,\n",
       "        0, 0, 0, 0, 0, 0, 0, 0, 0, 0, 0, 0, 0, 0, 0, 0, 0, 0, 0, 0, 0, 0,\n",
       "        0, 0, 0, 1, 0, 0, 0, 0, 0, 0, 0, 0, 0, 0, 0, 0, 0, 0, 0, 0, 0, 0,\n",
       "        0, 0, 0, 1, 0, 0, 0, 0, 0, 1, 0, 0, 0, 0, 0, 0, 1, 0, 0, 0, 0, 0,\n",
       "        0, 0, 0, 0, 0, 0, 0, 0, 0, 0, 0, 0, 1, 1, 0, 0, 1, 1, 0, 0, 0, 0,\n",
       "        1, 1, 1, 1, 1, 1, 1, 1, 0, 1, 1, 1, 1, 0, 0, 1, 1, 1, 1, 1, 1, 1,\n",
       "        0, 0, 1, 1, 0, 1, 0, 0, 0, 0, 0, 0, 0, 0, 1, 0, 0, 0, 1, 0, 0, 0,\n",
       "        1, 1, 0, 0, 0, 0, 1, 0, 0, 0, 0, 0, 0, 0, 0, 1, 0, 1, 0, 0, 0, 0,\n",
       "        0, 0, 0, 0, 0, 0, 0, 0, 0, 0, 0, 0, 0, 1, 0, 1, 0, 0, 0, 0, 0, 0,\n",
       "        0, 0, 0, 0, 1, 0, 0, 0, 1, 0, 0, 0, 0, 0, 0, 0, 0, 0, 0, 0, 0, 0,\n",
       "        0, 0, 0, 0, 0, 0, 0, 0, 1, 1, 0, 0, 0, 0, 0, 0, 0, 0, 0, 1, 0, 0,\n",
       "        0, 0, 0, 0, 0, 0, 0, 0, 1, 0, 0, 0, 0, 0, 0, 0, 0, 0, 0, 0, 0, 0,\n",
       "        1, 0, 0, 0, 0, 0, 0, 0, 0, 0, 0, 0, 0, 0, 0, 0, 1, 0, 0, 0, 0, 0,\n",
       "        0, 0, 0, 0]))"
      ]
     },
     "execution_count": 39,
     "metadata": {},
     "output_type": "execute_result"
    }
   ],
   "source": [
    "X_train,y_train"
   ]
  },
  {
   "cell_type": "code",
   "execution_count": 40,
   "metadata": {},
   "outputs": [],
   "source": [
    "# Test data\n",
    "X_test = df_test.iloc[:,[1,2,3,4]].values"
   ]
  },
  {
   "cell_type": "code",
   "execution_count": 41,
   "metadata": {},
   "outputs": [
    {
     "data": {
      "text/plain": [
       "array([[    2,    12,  3000,    52],\n",
       "       [   21,     7,  1750,    38],\n",
       "       [    4,     1,   250,     4],\n",
       "       [   11,    11,  2750,    38],\n",
       "       [    4,    12,  3000,    34],\n",
       "       [    3,    21,  5250,    42],\n",
       "       [    4,     2,   500,     4],\n",
       "       [   14,     1,   250,    14],\n",
       "       [   23,     2,   500,    87],\n",
       "       [   14,     4,  1000,    64],\n",
       "       [   13,     3,   750,    16],\n",
       "       [   11,     7,  1750,    62],\n",
       "       [    5,    11,  2750,    75],\n",
       "       [    4,     1,   250,     4],\n",
       "       [    4,     4,  1000,    26],\n",
       "       [   11,     1,   250,    11],\n",
       "       [   11,     6,  1500,    26],\n",
       "       [    7,    14,  3500,    48],\n",
       "       [   23,    14,  3500,    93],\n",
       "       [    3,     4,  1000,    29],\n",
       "       [    2,     7,  1750,    29],\n",
       "       [    4,     6,  1500,    35],\n",
       "       [    5,     7,  1750,    26],\n",
       "       [    4,     1,   250,     4],\n",
       "       [    2,     3,   750,    38],\n",
       "       [    5,    14,  3500,    86],\n",
       "       [    2,     2,   500,    11],\n",
       "       [   14,     1,   250,    14],\n",
       "       [    4,     3,   750,    16],\n",
       "       [    2,    12,  3000,    52],\n",
       "       [    4,    14,  3500,    86],\n",
       "       [   23,     7,  1750,    88],\n",
       "       [    2,     1,   250,     2],\n",
       "       [    4,     7,  1750,    58],\n",
       "       [    4,     2,   500,    41],\n",
       "       [   11,     7,  1750,    29],\n",
       "       [    2,     2,   500,    41],\n",
       "       [   14,     1,   250,    14],\n",
       "       [    4,     6,  1500,    28],\n",
       "       [    4,     1,   250,     4],\n",
       "       [    2,     2,   500,     4],\n",
       "       [   16,     6,  1500,    35],\n",
       "       [   16,     6,  1500,    81],\n",
       "       [    2,     5,  1250,    26],\n",
       "       [   14,     3,   750,    31],\n",
       "       [    2,     1,   250,     2],\n",
       "       [    4,     4,  1000,    14],\n",
       "       [   14,     3,   750,    35],\n",
       "       [   14,     1,   250,    14],\n",
       "       [   14,     5,  1250,    28],\n",
       "       [    2,    14,  3500,    57],\n",
       "       [    5,    24,  6000,    79],\n",
       "       [   14,     4,  1000,    23],\n",
       "       [    4,     6,  1500,    39],\n",
       "       [   23,     2,   500,    38],\n",
       "       [   11,     8,  2000,    52],\n",
       "       [    2,     7,  1750,    77],\n",
       "       [    4,     5,  1250,    11],\n",
       "       [    2,     4,  1000,    35],\n",
       "       [    2,    15,  3750,    64],\n",
       "       [    4,     1,   250,     4],\n",
       "       [   11,     2,   500,    38],\n",
       "       [   12,    15,  3750,    71],\n",
       "       [    2,    13,  3250,    76],\n",
       "       [   11,     2,   500,    38],\n",
       "       [   16,     2,   500,    27],\n",
       "       [    9,     4,  1000,    65],\n",
       "       [   21,    16,  4000,    64],\n",
       "       [    7,    10,  2500,    47],\n",
       "       [    4,     1,   250,     4],\n",
       "       [   11,     5,  1250,    35],\n",
       "       [   16,     4,  1000,    23],\n",
       "       [   38,     1,   250,    38],\n",
       "       [    4,     1,   250,     4],\n",
       "       [   23,     4,  1000,    52],\n",
       "       [   11,     7,  1750,    64],\n",
       "       [   14,     3,   750,    28],\n",
       "       [    4,    11,  2750,    78],\n",
       "       [   16,     4,  1000,    33],\n",
       "       [    4,     5,  1250,    11],\n",
       "       [   38,     1,   250,    38],\n",
       "       [   11,    11,  2750,    38],\n",
       "       [    2,     2,   500,    11],\n",
       "       [    2,     2,   500,     4],\n",
       "       [    2,    14,  3500,    57],\n",
       "       [   21,     1,   250,    21],\n",
       "       [   11,     1,   250,    11],\n",
       "       [   16,     2,   500,    26],\n",
       "       [   21,    16,  4000,    64],\n",
       "       [    2,     4,  1000,    26],\n",
       "       [    4,     1,   250,     4],\n",
       "       [    4,     2,   500,    52],\n",
       "       [   14,     3,   750,    31],\n",
       "       [   16,     2,   500,    16],\n",
       "       [   16,    11,  2750,    40],\n",
       "       [   11,    11,  2750,    42],\n",
       "       [    4,     5,  1250,    23],\n",
       "       [   11,    12,  3000,    58],\n",
       "       [   23,     8,  2000,    64],\n",
       "       [    4,     2,   500,     4],\n",
       "       [    2,     1,   250,     2],\n",
       "       [   11,     6,  1500,    58],\n",
       "       [   21,     3,   750,    35],\n",
       "       [    7,     5,  1250,    35],\n",
       "       [   11,     2,   500,    16],\n",
       "       [    2,     4,  1000,    11],\n",
       "       [   15,    16,  4000,    82],\n",
       "       [    2,    10,  2500,    49],\n",
       "       [    4,     1,   250,     4],\n",
       "       [   16,     3,   750,    21],\n",
       "       [    9,     2,   500,    16],\n",
       "       [    4,     1,   250,     4],\n",
       "       [   23,     7,  1750,    88],\n",
       "       [    4,     8,  2000,    28],\n",
       "       [   11,    11,  2750,    38],\n",
       "       [   23,     3,   750,    48],\n",
       "       [   23,     1,   250,    23],\n",
       "       [    4,     7,  1750,    28],\n",
       "       [    4,    16,  4000,    38],\n",
       "       [    2,     2,   500,    23],\n",
       "       [   11,     6,  1500,    58],\n",
       "       [    4,     9,  2250,    26],\n",
       "       [   11,     4,  1000,    34],\n",
       "       [    0,    26,  6500,    76],\n",
       "       [    2,    10,  2500,    52],\n",
       "       [    2,    16,  4000,    81],\n",
       "       [    4,     6,  1500,    46],\n",
       "       [   11,     2,   500,    11],\n",
       "       [   11,     4,  1000,    34],\n",
       "       [   14,     2,   500,    14],\n",
       "       [    3,     5,  1250,    26],\n",
       "       [   11,     1,   250,    11],\n",
       "       [   11,     3,   750,    15],\n",
       "       [    4,     1,   250,     4],\n",
       "       [    4,     7,  1750,    58],\n",
       "       [    4,     2,   500,     4],\n",
       "       [   11,     1,   250,    11],\n",
       "       [   11,     3,   750,    76],\n",
       "       [    2,    13,  3250,    32],\n",
       "       [    2,    12,  3000,    98],\n",
       "       [    2,    34,  8500,    77],\n",
       "       [    4,     1,   250,     4],\n",
       "       [    2,     2,   500,    11],\n",
       "       [    2,     7,  1750,    77],\n",
       "       [    4,     1,   250,     4],\n",
       "       [   23,     1,   250,    23],\n",
       "       [   23,     3,   750,    35],\n",
       "       [    4,     5,  1250,    33],\n",
       "       [   23,     3,   750,    62],\n",
       "       [    2,     1,   250,     2],\n",
       "       [   21,     2,   500,    41],\n",
       "       [    2,     9,  2250,    22],\n",
       "       [   11,     9,  2250,    33],\n",
       "       [   16,     6,  1500,    40],\n",
       "       [   16,     3,   750,    19],\n",
       "       [    8,    15,  3750,    77],\n",
       "       [   16,     1,   250,    16],\n",
       "       [    2,     1,   250,     2],\n",
       "       [    5,    24,  6000,    79],\n",
       "       [   11,     1,   250,    11],\n",
       "       [   12,    15,  3750,    71],\n",
       "       [   14,     1,   250,    14],\n",
       "       [    4,     6,  1500,    23],\n",
       "       [    9,     9,  2250,    16],\n",
       "       [    2,     3,   750,    52],\n",
       "       [   16,     3,   750,    50],\n",
       "       [    2,     2,   500,    11],\n",
       "       [    4,    14,  3500,    86],\n",
       "       [    4,     1,   250,     4],\n",
       "       [    3,     4,  1000,    29],\n",
       "       [   23,     1,   250,    23],\n",
       "       [   40,     1,   250,    40],\n",
       "       [    4,     1,   250,     4],\n",
       "       [    2,    41, 10250,    98],\n",
       "       [    4,     2,   500,    52],\n",
       "       [   21,     3,   750,    38],\n",
       "       [    2,     3,   750,     9],\n",
       "       [    2,    12,  3000,    95],\n",
       "       [   11,     2,   500,    52],\n",
       "       [    4,     1,   250,     4],\n",
       "       [   14,     1,   250,    14],\n",
       "       [   11,     5,  1250,    33],\n",
       "       [    4,     9,  2250,    26],\n",
       "       [   16,     1,   250,    16],\n",
       "       [    4,    16,  4000,    70],\n",
       "       [   14,     2,   500,    14],\n",
       "       [   14,     3,   750,    28],\n",
       "       [   11,     1,   250,    11],\n",
       "       [    2,     1,   250,     2],\n",
       "       [   14,     2,   500,    14],\n",
       "       [    4,    23,  5750,    58],\n",
       "       [    6,     3,   750,    26],\n",
       "       [   16,     2,   500,    16],\n",
       "       [   14,     2,   500,    29],\n",
       "       [   11,     7,  1750,    64],\n",
       "       [   16,     1,   250,    16],\n",
       "       [   21,     2,   500,    23],\n",
       "       [   23,     8,  2000,    46],\n",
       "       [   23,     2,   500,    28],\n",
       "       [    4,    11,  2750,    64]])"
      ]
     },
     "execution_count": 41,
     "metadata": {},
     "output_type": "execute_result"
    }
   ],
   "source": [
    "X_test"
   ]
  },
  {
   "cell_type": "code",
   "execution_count": 42,
   "metadata": {},
   "outputs": [],
   "source": [
    "#Feature Scaling\n",
    "from sklearn.preprocessing import StandardScaler\n",
    "Scaler = StandardScaler()\n",
    "X_train = Scaler.fit_transform(X_train)\n",
    "\n",
    "X_test = Scaler.fit_transform(X_test)"
   ]
  },
  {
   "cell_type": "code",
   "execution_count": 43,
   "metadata": {},
   "outputs": [
    {
     "data": {
      "text/plain": [
       "(array([[-0.91073873,  7.77205216,  7.77205216,  2.6418237 ],\n",
       "        [-1.15558611,  1.32046785,  1.32046785, -0.24994586],\n",
       "        [-1.03316242,  1.84356928,  1.84356928,  0.0392311 ],\n",
       "        ...,\n",
       "        [ 1.41531137, -0.59757073, -0.59757073,  0.74151799],\n",
       "        [ 3.61893779, -0.77193788, -0.77193788,  0.20447507],\n",
       "        [ 7.65891955, -0.77193788, -0.77193788,  1.56773787]]),\n",
       " array([[-0.98618442,  0.99265264,  0.99265264,  0.65972434],\n",
       "        [ 1.51381612,  0.17430751,  0.17430751,  0.10080508],\n",
       "        [-0.72302647, -0.80770664, -0.80770664, -1.25657026],\n",
       "        [ 0.19802636,  0.82898361,  0.82898361,  0.10080508],\n",
       "        [-0.72302647,  0.99265264,  0.99265264, -0.05888614],\n",
       "        [-0.85460545,  2.46567387,  2.46567387,  0.2604963 ],\n",
       "        [-0.72302647, -0.64403762, -0.64403762, -1.25657026],\n",
       "        [ 0.59276329, -0.80770664, -0.80770664, -0.85734222],\n",
       "        [ 1.77697407, -0.64403762, -0.64403762,  2.05702248],\n",
       "        [ 0.59276329, -0.31669956, -0.31669956,  1.13879799],\n",
       "        [ 0.46118431, -0.48036859, -0.48036859, -0.77749661],\n",
       "        [ 0.19802636,  0.17430751,  0.17430751,  1.05895238],\n",
       "        [-0.5914475 ,  0.82898361,  0.82898361,  1.57794883],\n",
       "        [-0.72302647, -0.80770664, -0.80770664, -1.25657026],\n",
       "        [-0.72302647, -0.31669956, -0.31669956, -0.37826857],\n",
       "        [ 0.19802636, -0.80770664, -0.80770664, -0.97711063],\n",
       "        [ 0.19802636,  0.01063849,  0.01063849, -0.37826857],\n",
       "        [-0.32828954,  1.31999069,  1.31999069,  0.50003312],\n",
       "        [ 1.77697407,  1.31999069,  1.31999069,  2.2965593 ],\n",
       "        [-0.85460545, -0.31669956, -0.31669956, -0.25850016],\n",
       "        [-0.98618442,  0.17430751,  0.17430751, -0.25850016],\n",
       "        [-0.72302647,  0.01063849,  0.01063849, -0.01896333],\n",
       "        [-0.5914475 ,  0.17430751,  0.17430751, -0.37826857],\n",
       "        [-0.72302647, -0.80770664, -0.80770664, -1.25657026],\n",
       "        [-0.98618442, -0.48036859, -0.48036859,  0.10080508],\n",
       "        [-0.5914475 ,  1.31999069,  1.31999069,  2.01709967],\n",
       "        [-0.98618442, -0.64403762, -0.64403762, -0.97711063],\n",
       "        [ 0.59276329, -0.80770664, -0.80770664, -0.85734222],\n",
       "        [-0.72302647, -0.48036859, -0.48036859, -0.77749661],\n",
       "        [-0.98618442,  0.99265264,  0.99265264,  0.65972434],\n",
       "        [-0.72302647,  1.31999069,  1.31999069,  2.01709967],\n",
       "        [ 1.77697407,  0.17430751,  0.17430751,  2.09694528],\n",
       "        [-0.98618442, -0.80770664, -0.80770664, -1.33641587],\n",
       "        [-0.72302647,  0.17430751,  0.17430751,  0.89926116],\n",
       "        [-0.72302647, -0.64403762, -0.64403762,  0.22057349],\n",
       "        [ 0.19802636,  0.17430751,  0.17430751, -0.25850016],\n",
       "        [-0.98618442, -0.64403762, -0.64403762,  0.22057349],\n",
       "        [ 0.59276329, -0.80770664, -0.80770664, -0.85734222],\n",
       "        [-0.72302647,  0.01063849,  0.01063849, -0.29842296],\n",
       "        [-0.72302647, -0.80770664, -0.80770664, -1.25657026],\n",
       "        [-0.98618442, -0.64403762, -0.64403762, -1.25657026],\n",
       "        [ 0.85592124,  0.01063849,  0.01063849, -0.01896333],\n",
       "        [ 0.85592124,  0.01063849,  0.01063849,  1.81748565],\n",
       "        [-0.98618442, -0.15303054, -0.15303054, -0.37826857],\n",
       "        [ 0.59276329, -0.48036859, -0.48036859, -0.17865455],\n",
       "        [-0.98618442, -0.80770664, -0.80770664, -1.33641587],\n",
       "        [-0.72302647, -0.31669956, -0.31669956, -0.85734222],\n",
       "        [ 0.59276329, -0.48036859, -0.48036859, -0.01896333],\n",
       "        [ 0.59276329, -0.80770664, -0.80770664, -0.85734222],\n",
       "        [ 0.59276329, -0.15303054, -0.15303054, -0.29842296],\n",
       "        [-0.98618442,  1.31999069,  1.31999069,  0.85933836],\n",
       "        [-0.5914475 ,  2.95668095,  2.95668095,  1.73764005],\n",
       "        [ 0.59276329, -0.31669956, -0.31669956, -0.49803698],\n",
       "        [-0.72302647,  0.01063849,  0.01063849,  0.14072788],\n",
       "        [ 1.77697407, -0.64403762, -0.64403762,  0.10080508],\n",
       "        [ 0.19802636,  0.33797654,  0.33797654,  0.65972434],\n",
       "        [-0.98618442,  0.17430751,  0.17430751,  1.65779444],\n",
       "        [-0.72302647, -0.15303054, -0.15303054, -0.97711063],\n",
       "        [-0.98618442, -0.31669956, -0.31669956, -0.01896333],\n",
       "        [-0.98618442,  1.48365972,  1.48365972,  1.13879799],\n",
       "        [-0.72302647, -0.80770664, -0.80770664, -1.25657026],\n",
       "        [ 0.19802636, -0.64403762, -0.64403762,  0.10080508],\n",
       "        [ 0.32960533,  1.48365972,  1.48365972,  1.41825761],\n",
       "        [-0.98618442,  1.15632167,  1.15632167,  1.61787163],\n",
       "        [ 0.19802636, -0.64403762, -0.64403762,  0.10080508],\n",
       "        [ 0.85592124, -0.64403762, -0.64403762, -0.33834576],\n",
       "        [-0.06513159, -0.31669956, -0.31669956,  1.17872079],\n",
       "        [ 1.51381612,  1.64732874,  1.64732874,  1.13879799],\n",
       "        [-0.32828954,  0.66531459,  0.66531459,  0.46011032],\n",
       "        [-0.72302647, -0.80770664, -0.80770664, -1.25657026],\n",
       "        [ 0.19802636, -0.15303054, -0.15303054, -0.01896333],\n",
       "        [ 0.85592124, -0.31669956, -0.31669956, -0.49803698],\n",
       "        [ 3.75065871, -0.80770664, -0.80770664,  0.10080508],\n",
       "        [-0.72302647, -0.80770664, -0.80770664, -1.25657026],\n",
       "        [ 1.77697407, -0.31669956, -0.31669956,  0.65972434],\n",
       "        [ 0.19802636,  0.17430751,  0.17430751,  1.13879799],\n",
       "        [ 0.59276329, -0.48036859, -0.48036859, -0.29842296],\n",
       "        [-0.72302647,  0.82898361,  0.82898361,  1.69771724],\n",
       "        [ 0.85592124, -0.31669956, -0.31669956, -0.09880894],\n",
       "        [-0.72302647, -0.15303054, -0.15303054, -0.97711063],\n",
       "        [ 3.75065871, -0.80770664, -0.80770664,  0.10080508],\n",
       "        [ 0.19802636,  0.82898361,  0.82898361,  0.10080508],\n",
       "        [-0.98618442, -0.64403762, -0.64403762, -0.97711063],\n",
       "        [-0.98618442, -0.64403762, -0.64403762, -1.25657026],\n",
       "        [-0.98618442,  1.31999069,  1.31999069,  0.85933836],\n",
       "        [ 1.51381612, -0.80770664, -0.80770664, -0.57788259],\n",
       "        [ 0.19802636, -0.80770664, -0.80770664, -0.97711063],\n",
       "        [ 0.85592124, -0.64403762, -0.64403762, -0.37826857],\n",
       "        [ 1.51381612,  1.64732874,  1.64732874,  1.13879799],\n",
       "        [-0.98618442, -0.31669956, -0.31669956, -0.37826857],\n",
       "        [-0.72302647, -0.80770664, -0.80770664, -1.25657026],\n",
       "        [-0.72302647, -0.64403762, -0.64403762,  0.65972434],\n",
       "        [ 0.59276329, -0.48036859, -0.48036859, -0.17865455],\n",
       "        [ 0.85592124, -0.64403762, -0.64403762, -0.77749661],\n",
       "        [ 0.85592124,  0.82898361,  0.82898361,  0.18065069],\n",
       "        [ 0.19802636,  0.82898361,  0.82898361,  0.2604963 ],\n",
       "        [-0.72302647, -0.15303054, -0.15303054, -0.49803698],\n",
       "        [ 0.19802636,  0.99265264,  0.99265264,  0.89926116],\n",
       "        [ 1.77697407,  0.33797654,  0.33797654,  1.13879799],\n",
       "        [-0.72302647, -0.64403762, -0.64403762, -1.25657026],\n",
       "        [-0.98618442, -0.80770664, -0.80770664, -1.33641587],\n",
       "        [ 0.19802636,  0.01063849,  0.01063849,  0.89926116],\n",
       "        [ 1.51381612, -0.48036859, -0.48036859, -0.01896333],\n",
       "        [-0.32828954, -0.15303054, -0.15303054, -0.01896333],\n",
       "        [ 0.19802636, -0.64403762, -0.64403762, -0.77749661],\n",
       "        [-0.98618442, -0.31669956, -0.31669956, -0.97711063],\n",
       "        [ 0.72434226,  1.64732874,  1.64732874,  1.85740846],\n",
       "        [-0.98618442,  0.66531459,  0.66531459,  0.53995592],\n",
       "        [-0.72302647, -0.80770664, -0.80770664, -1.25657026],\n",
       "        [ 0.85592124, -0.48036859, -0.48036859, -0.57788259],\n",
       "        [-0.06513159, -0.64403762, -0.64403762, -0.77749661],\n",
       "        [-0.72302647, -0.80770664, -0.80770664, -1.25657026],\n",
       "        [ 1.77697407,  0.17430751,  0.17430751,  2.09694528],\n",
       "        [-0.72302647,  0.33797654,  0.33797654, -0.29842296],\n",
       "        [ 0.19802636,  0.82898361,  0.82898361,  0.10080508],\n",
       "        [ 1.77697407, -0.48036859, -0.48036859,  0.50003312],\n",
       "        [ 1.77697407, -0.80770664, -0.80770664, -0.49803698],\n",
       "        [-0.72302647,  0.17430751,  0.17430751, -0.29842296],\n",
       "        [-0.72302647,  1.64732874,  1.64732874,  0.10080508],\n",
       "        [-0.98618442, -0.64403762, -0.64403762, -0.49803698],\n",
       "        [ 0.19802636,  0.01063849,  0.01063849,  0.89926116],\n",
       "        [-0.72302647,  0.50164556,  0.50164556, -0.37826857],\n",
       "        [ 0.19802636, -0.31669956, -0.31669956, -0.05888614],\n",
       "        [-1.24934238,  3.284019  ,  3.284019  ,  1.61787163],\n",
       "        [-0.98618442,  0.66531459,  0.66531459,  0.65972434],\n",
       "        [-0.98618442,  1.64732874,  1.64732874,  1.81748565],\n",
       "        [-0.72302647,  0.01063849,  0.01063849,  0.42018751],\n",
       "        [ 0.19802636, -0.64403762, -0.64403762, -0.97711063],\n",
       "        [ 0.19802636, -0.31669956, -0.31669956, -0.05888614],\n",
       "        [ 0.59276329, -0.64403762, -0.64403762, -0.85734222],\n",
       "        [-0.85460545, -0.15303054, -0.15303054, -0.37826857],\n",
       "        [ 0.19802636, -0.80770664, -0.80770664, -0.97711063],\n",
       "        [ 0.19802636, -0.48036859, -0.48036859, -0.81741941],\n",
       "        [-0.72302647, -0.80770664, -0.80770664, -1.25657026],\n",
       "        [-0.72302647,  0.17430751,  0.17430751,  0.89926116],\n",
       "        [-0.72302647, -0.64403762, -0.64403762, -1.25657026],\n",
       "        [ 0.19802636, -0.80770664, -0.80770664, -0.97711063],\n",
       "        [ 0.19802636, -0.48036859, -0.48036859,  1.61787163],\n",
       "        [-0.98618442,  1.15632167,  1.15632167, -0.13873174],\n",
       "        [-0.98618442,  0.99265264,  0.99265264,  2.49617332],\n",
       "        [-0.98618442,  4.5933712 ,  4.5933712 ,  1.65779444],\n",
       "        [-0.72302647, -0.80770664, -0.80770664, -1.25657026],\n",
       "        [-0.98618442, -0.64403762, -0.64403762, -0.97711063],\n",
       "        [-0.98618442,  0.17430751,  0.17430751,  1.65779444],\n",
       "        [-0.72302647, -0.80770664, -0.80770664, -1.25657026],\n",
       "        [ 1.77697407, -0.80770664, -0.80770664, -0.49803698],\n",
       "        [ 1.77697407, -0.48036859, -0.48036859, -0.01896333],\n",
       "        [-0.72302647, -0.15303054, -0.15303054, -0.09880894],\n",
       "        [ 1.77697407, -0.48036859, -0.48036859,  1.05895238],\n",
       "        [-0.98618442, -0.80770664, -0.80770664, -1.33641587],\n",
       "        [ 1.51381612, -0.64403762, -0.64403762,  0.22057349],\n",
       "        [-0.98618442,  0.50164556,  0.50164556, -0.53795978],\n",
       "        [ 0.19802636,  0.50164556,  0.50164556, -0.09880894],\n",
       "        [ 0.85592124,  0.01063849,  0.01063849,  0.18065069],\n",
       "        [ 0.85592124, -0.48036859, -0.48036859, -0.6577282 ],\n",
       "        [-0.19671057,  1.48365972,  1.48365972,  1.65779444],\n",
       "        [ 0.85592124, -0.80770664, -0.80770664, -0.77749661],\n",
       "        [-0.98618442, -0.80770664, -0.80770664, -1.33641587],\n",
       "        [-0.5914475 ,  2.95668095,  2.95668095,  1.73764005],\n",
       "        [ 0.19802636, -0.80770664, -0.80770664, -0.97711063],\n",
       "        [ 0.32960533,  1.48365972,  1.48365972,  1.41825761],\n",
       "        [ 0.59276329, -0.80770664, -0.80770664, -0.85734222],\n",
       "        [-0.72302647,  0.01063849,  0.01063849, -0.49803698],\n",
       "        [-0.06513159,  0.50164556,  0.50164556, -0.77749661],\n",
       "        [-0.98618442, -0.48036859, -0.48036859,  0.65972434],\n",
       "        [ 0.85592124, -0.48036859, -0.48036859,  0.57987873],\n",
       "        [-0.98618442, -0.64403762, -0.64403762, -0.97711063],\n",
       "        [-0.72302647,  1.31999069,  1.31999069,  2.01709967],\n",
       "        [-0.72302647, -0.80770664, -0.80770664, -1.25657026],\n",
       "        [-0.85460545, -0.31669956, -0.31669956, -0.25850016],\n",
       "        [ 1.77697407, -0.80770664, -0.80770664, -0.49803698],\n",
       "        [ 4.01381666, -0.80770664, -0.80770664,  0.18065069],\n",
       "        [-0.72302647, -0.80770664, -0.80770664, -1.25657026],\n",
       "        [-0.98618442,  5.73905438,  5.73905438,  2.49617332],\n",
       "        [-0.72302647, -0.64403762, -0.64403762,  0.65972434],\n",
       "        [ 1.51381612, -0.48036859, -0.48036859,  0.10080508],\n",
       "        [-0.98618442, -0.48036859, -0.48036859, -1.05695624],\n",
       "        [-0.98618442,  0.99265264,  0.99265264,  2.37640491],\n",
       "        [ 0.19802636, -0.64403762, -0.64403762,  0.65972434],\n",
       "        [-0.72302647, -0.80770664, -0.80770664, -1.25657026],\n",
       "        [ 0.59276329, -0.80770664, -0.80770664, -0.85734222],\n",
       "        [ 0.19802636, -0.15303054, -0.15303054, -0.09880894],\n",
       "        [-0.72302647,  0.50164556,  0.50164556, -0.37826857],\n",
       "        [ 0.85592124, -0.80770664, -0.80770664, -0.77749661],\n",
       "        [-0.72302647,  1.64732874,  1.64732874,  1.37833481],\n",
       "        [ 0.59276329, -0.64403762, -0.64403762, -0.85734222],\n",
       "        [ 0.59276329, -0.48036859, -0.48036859, -0.29842296],\n",
       "        [ 0.19802636, -0.80770664, -0.80770664, -0.97711063],\n",
       "        [-0.98618442, -0.80770664, -0.80770664, -1.33641587],\n",
       "        [ 0.59276329, -0.64403762, -0.64403762, -0.85734222],\n",
       "        [-0.72302647,  2.79301192,  2.79301192,  0.89926116],\n",
       "        [-0.45986852, -0.48036859, -0.48036859, -0.37826857],\n",
       "        [ 0.85592124, -0.64403762, -0.64403762, -0.77749661],\n",
       "        [ 0.59276329, -0.64403762, -0.64403762, -0.25850016],\n",
       "        [ 0.19802636,  0.17430751,  0.17430751,  1.13879799],\n",
       "        [ 0.85592124, -0.80770664, -0.80770664, -0.77749661],\n",
       "        [ 1.51381612, -0.64403762, -0.64403762, -0.49803698],\n",
       "        [ 1.77697407,  0.33797654,  0.33797654,  0.42018751],\n",
       "        [ 1.77697407, -0.64403762, -0.64403762, -0.29842296],\n",
       "        [-0.72302647,  0.82898361,  0.82898361,  1.13879799]]))"
      ]
     },
     "execution_count": 43,
     "metadata": {},
     "output_type": "execute_result"
    }
   ],
   "source": [
    "X_train, X_test"
   ]
  },
  {
   "cell_type": "markdown",
   "metadata": {},
   "source": [
    "<h1>Logistic Regression</h1>\n",
    "<p style=\"padding-left:10px\">Building a Logistic Regression model</p>"
   ]
  },
  {
   "cell_type": "code",
   "execution_count": 75,
   "metadata": {},
   "outputs": [
    {
     "data": {
      "text/plain": [
       "LogisticRegression(C=1.0, class_weight=None, dual=False, fit_intercept=True,\n",
       "          intercept_scaling=1, max_iter=100, multi_class='warn',\n",
       "          n_jobs=None, penalty='l2', random_state=None, solver='warn',\n",
       "          tol=0.0001, verbose=0, warm_start=False)"
      ]
     },
     "execution_count": 75,
     "metadata": {},
     "output_type": "execute_result"
    }
   ],
   "source": [
    "from sklearn.linear_model import LogisticRegression\n",
    "classifier = LogisticRegression()\n",
    "classifier.fit(X_train,y_train)"
   ]
  },
  {
   "cell_type": "code",
   "execution_count": 76,
   "metadata": {},
   "outputs": [],
   "source": [
    "y_pred = classifier.predict(X_test)"
   ]
  },
  {
   "cell_type": "code",
   "execution_count": 77,
   "metadata": {},
   "outputs": [
    {
     "data": {
      "text/plain": [
       "0.7604166666666666"
      ]
     },
     "execution_count": 77,
     "metadata": {},
     "output_type": "execute_result"
    }
   ],
   "source": [
    "score = classifier.score(X_train,y_train)\n",
    "score"
   ]
  },
  {
   "cell_type": "code",
   "execution_count": 78,
   "metadata": {},
   "outputs": [],
   "source": [
    "#Applying k-fold cross validation\n",
    "from sklearn.model_selection import cross_val_score\n",
    "accuracies = cross_val_score(estimator=classifier,X=X_train,y=y_train,cv=5)\n",
    "mean = accuracies.mean()\n",
    "std = accuracies.std()"
   ]
  },
  {
   "cell_type": "code",
   "execution_count": 79,
   "metadata": {},
   "outputs": [
    {
     "data": {
      "text/plain": [
       "(0.7795523290986085, 0.024479350901781296)"
      ]
     },
     "execution_count": 79,
     "metadata": {},
     "output_type": "execute_result"
    }
   ],
   "source": [
    "mean,std"
   ]
  },
  {
   "cell_type": "markdown",
   "metadata": {},
   "source": [
    "<h1>Saving result in csv</h1>"
   ]
  },
  {
   "cell_type": "code",
   "execution_count": 80,
   "metadata": {},
   "outputs": [],
   "source": [
    "df = pd.DataFrame(y_pred,dtype='float32',index=df_test['Donor_id'],columns=['Made Donation in March 2007'])"
   ]
  },
  {
   "cell_type": "code",
   "execution_count": 81,
   "metadata": {},
   "outputs": [],
   "source": [
    "del df.index.name"
   ]
  },
  {
   "cell_type": "code",
   "execution_count": 82,
   "metadata": {},
   "outputs": [],
   "source": [
    "df.to_csv('submission.csv')"
   ]
  },
  {
   "cell_type": "markdown",
   "metadata": {},
   "source": [
    "<h1>Random Forest</h1>"
   ]
  },
  {
   "cell_type": "code",
   "execution_count": 95,
   "metadata": {},
   "outputs": [
    {
     "data": {
      "text/plain": [
       "0.9201388888888888"
      ]
     },
     "execution_count": 95,
     "metadata": {},
     "output_type": "execute_result"
    }
   ],
   "source": [
    "from sklearn.ensemble import RandomForestClassifier\n",
    "rf = RandomForestClassifier(random_state=0)\n",
    "rf.fit(X_train,y_train)\n",
    "score = rf.score(X_train,y_train)\n",
    "score"
   ]
  },
  {
   "cell_type": "code",
   "execution_count": 96,
   "metadata": {},
   "outputs": [],
   "source": [
    "y_pred = rf.predict(X_test)"
   ]
  },
  {
   "cell_type": "code",
   "execution_count": 97,
   "metadata": {},
   "outputs": [],
   "source": [
    "df = pd.DataFrame(y_pred,dtype='float32',index=df_test['Donor_id'],columns=['Made Donation in March 2007'])"
   ]
  },
  {
   "cell_type": "code",
   "execution_count": 98,
   "metadata": {},
   "outputs": [],
   "source": [
    "del df.index.name"
   ]
  },
  {
   "cell_type": "code",
   "execution_count": 99,
   "metadata": {},
   "outputs": [],
   "source": [
    "df.to_csv('randomforest.csv')"
   ]
  },
  {
   "cell_type": "markdown",
   "metadata": {},
   "source": [
    "<h1>XGBoost</h1>"
   ]
  },
  {
   "cell_type": "code",
   "execution_count": 83,
   "metadata": {},
   "outputs": [
    {
     "data": {
      "text/plain": [
       "0.8402777777777778"
      ]
     },
     "execution_count": 83,
     "metadata": {},
     "output_type": "execute_result"
    }
   ],
   "source": [
    "from xgboost import XGBClassifier\n",
    "xg = XGBClassifier()\n",
    "xg.fit(X_train,y_train)\n",
    "score = xg.score(X_train,y_train)\n",
    "score"
   ]
  },
  {
   "cell_type": "code",
   "execution_count": 84,
   "metadata": {},
   "outputs": [],
   "source": [
    "#Applying k-fold cross validation\n",
    "from sklearn.model_selection import cross_val_score\n",
    "accuracies = cross_val_score(estimator=xg,X=X_train,y=y_train,cv=10)\n",
    "mean = accuracies.mean()\n",
    "std = accuracies.std()"
   ]
  },
  {
   "cell_type": "code",
   "execution_count": 85,
   "metadata": {},
   "outputs": [
    {
     "data": {
      "text/plain": [
       "(0.7296182266009852, 0.14489544305661795)"
      ]
     },
     "execution_count": 85,
     "metadata": {},
     "output_type": "execute_result"
    }
   ],
   "source": [
    "mean,std"
   ]
  },
  {
   "cell_type": "code",
   "execution_count": 65,
   "metadata": {},
   "outputs": [],
   "source": [
    "y_pred = xg.predict(X_test)"
   ]
  },
  {
   "cell_type": "code",
   "execution_count": 66,
   "metadata": {},
   "outputs": [],
   "source": [
    "df = pd.DataFrame(y_pred,dtype='float32',index=df_test['Donor_id'],columns=['Made Donation in March 2007'])"
   ]
  },
  {
   "cell_type": "code",
   "execution_count": 68,
   "metadata": {},
   "outputs": [],
   "source": [
    "del df.index.name"
   ]
  },
  {
   "cell_type": "code",
   "execution_count": 70,
   "metadata": {},
   "outputs": [],
   "source": [
    "df.to_csv('xgboost.csv')"
   ]
  },
  {
   "cell_type": "code",
   "execution_count": null,
   "metadata": {},
   "outputs": [],
   "source": []
  }
 ],
 "metadata": {
  "kernelspec": {
   "display_name": "Python 3",
   "language": "python",
   "name": "python3"
  },
  "language_info": {
   "codemirror_mode": {
    "name": "ipython",
    "version": 3
   },
   "file_extension": ".py",
   "mimetype": "text/x-python",
   "name": "python",
   "nbconvert_exporter": "python",
   "pygments_lexer": "ipython3",
   "version": "3.6.8"
  }
 },
 "nbformat": 4,
 "nbformat_minor": 2
}
